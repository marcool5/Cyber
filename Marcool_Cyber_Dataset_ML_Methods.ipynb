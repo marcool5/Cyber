{
  "nbformat": 4,
  "nbformat_minor": 0,
  "metadata": {
    "colab": {
      "provenance": [],
      "mount_file_id": "1npqNR4X5ikQEQFYnMw7n-3iBR3heWVub",
      "authorship_tag": "ABX9TyP3o8vdH3r9fvljYE/ZV9Wh",
      "include_colab_link": true
    },
    "kernelspec": {
      "name": "python3",
      "display_name": "Python 3"
    },
    "language_info": {
      "name": "python"
    }
  },
  "cells": [
    {
      "cell_type": "markdown",
      "metadata": {
        "id": "view-in-github",
        "colab_type": "text"
      },
      "source": [
        "<a href=\"https://colab.research.google.com/github/marcool5/Cyber/blob/main/Marcool_Cyber_Dataset_ML_Methods.ipynb\" target=\"_parent\"><img src=\"https://colab.research.google.com/assets/colab-badge.svg\" alt=\"Open In Colab\"/></a>"
      ]
    },
    {
      "cell_type": "code",
      "execution_count": 29,
      "metadata": {
        "colab": {
          "base_uri": "https://localhost:8080/"
        },
        "id": "imHFTE-Vw4og",
        "outputId": "f701a79e-782a-492a-fbc4-4438a67097d7"
      },
      "outputs": [
        {
          "output_type": "stream",
          "name": "stderr",
          "text": [
            "<ipython-input-29-1ddd2a30c49f>:30: DtypeWarning: Columns (1,3,47) have mixed types. Specify dtype option on import or set low_memory=False.\n",
            "  data = pd.read_csv('/content/drive/MyDrive/dataset/UNSW-NB15_1.csv')\n"
          ]
        },
        {
          "output_type": "stream",
          "name": "stdout",
          "text": [
            "<class 'pandas.core.frame.DataFrame'>\n",
            "RangeIndex: 700000 entries, 0 to 699999\n",
            "Data columns (total 49 columns):\n",
            " #   Column         Non-Null Count   Dtype  \n",
            "---  ------         --------------   -----  \n",
            " 0   59.166.0.0     700000 non-null  object \n",
            " 1   1390           700000 non-null  object \n",
            " 2   149.171.126.6  700000 non-null  object \n",
            " 3   53             700000 non-null  object \n",
            " 4   udp            700000 non-null  object \n",
            " 5   CON            700000 non-null  object \n",
            " 6   0.001055       700000 non-null  float64\n",
            " 7   132            700000 non-null  int64  \n",
            " 8   164            700000 non-null  int64  \n",
            " 9   31             700000 non-null  int64  \n",
            " 10  29             700000 non-null  int64  \n",
            " 11  0              700000 non-null  int64  \n",
            " 12  0.1            700000 non-null  int64  \n",
            " 13  dns            700000 non-null  object \n",
            " 14  500473.9375    700000 non-null  float64\n",
            " 15  621800.9375    700000 non-null  float64\n",
            " 16  2              700000 non-null  int64  \n",
            " 17  2.1            700000 non-null  int64  \n",
            " 18  0.2            700000 non-null  int64  \n",
            " 19  0.3            700000 non-null  int64  \n",
            " 20  0.4            700000 non-null  int64  \n",
            " 21  0.5            700000 non-null  int64  \n",
            " 22  66             700000 non-null  int64  \n",
            " 23  82             700000 non-null  int64  \n",
            " 24  0.6            700000 non-null  int64  \n",
            " 25  0.7            700000 non-null  int64  \n",
            " 26  0.8            700000 non-null  float64\n",
            " 27  0.9            700000 non-null  float64\n",
            " 28  1421927414     700000 non-null  int64  \n",
            " 29  1421927414.1   700000 non-null  int64  \n",
            " 30  0.017          700000 non-null  float64\n",
            " 31  0.013          700000 non-null  float64\n",
            " 32  0.10           700000 non-null  float64\n",
            " 33  0.11           700000 non-null  float64\n",
            " 34  0.12           700000 non-null  float64\n",
            " 35  0.13           700000 non-null  int64  \n",
            " 36  0.14           700000 non-null  int64  \n",
            " 37  0.15           700000 non-null  int64  \n",
            " 38  0.16           700000 non-null  int64  \n",
            " 39  0.17           700000 non-null  int64  \n",
            " 40  3              700000 non-null  int64  \n",
            " 41  7              700000 non-null  int64  \n",
            " 42  1              700000 non-null  int64  \n",
            " 43  3.1            700000 non-null  int64  \n",
            " 44  1.1            700000 non-null  int64  \n",
            " 45  1.2            700000 non-null  int64  \n",
            " 46  1.3            700000 non-null  int64  \n",
            " 47  Unnamed: 47    22215 non-null   object \n",
            " 48  0.18           700000 non-null  int64  \n",
            "dtypes: float64(10), int64(31), object(8)\n",
            "memory usage: 261.7+ MB\n"
          ]
        },
        {
          "output_type": "execute_result",
          "data": {
            "text/plain": [
              "59.166.0.0    1390   149.171.126.6   53   udp   CON  0.001055  132   164     31   29   0  0.1  dns   500473.9375   621800.9375   2   2.1  0.2  0.3  0.4         0.5         66   82    0.6  0.7  0.8          0.9         1421927414  1421927414.1  0.017       0.013       0.10      0.11      0.12      0.13  0.14  0.15  0.16  0.17  3   7   1  3.1  1.1  1.2  1.3  Unnamed: 47     0.18\n",
              "175.45.176.3  0      149.171.126.17  0    sep   INT  0.000010  104   0       254  0    0  0    -     4.160000e+07  0.000000e+00  2   0    0    0    0           0           52   0     0    0    0.000000     0.000000    1421928685  1421928685    0.010000    0.000000    0.000000  0.000000  0.000000  0     2     0     0     0     12  12  5  4    2    2    4    DoS             1       14\n",
              "                                          ospf  INT  9.633130  2688  0       254  0    0  0    -     2.179146e+03  0.000000e+00  42  0    0    0    0           0           64   0     0    0    267.166625   0.000000    1421930972  1421930982    234.954391  0.000000    0.000000  0.000000  0.000000  0     2     0     0     0     2   2   2  2    2    2    2    DoS             1       14\n",
              "175.45.176.1  0      149.171.126.17  0    sctp  CON  0.130663  152   82      254  60   0  0    -     4.653192e+03  2.510275e+03  2   2    0    0    0           0           76   41    0    0    0.000000     0.000000    1421928188  1421928189    0.007000    0.009000    0.000000  0.000000  0.000000  0     3     0     0     0     9   8   2  2    2    2    2    Exploits        1       12\n",
              "175.45.176.0  500    149.171.126.13  500  udp   CON  0.624362  4264  3386    254  60   0  0    -     5.008633e+04  3.905427e+04  12  10   0    0    0           0           355  339   0    0    66.864852    70.142297   1421930626  1421930627    56.760184   57.465668   0.000000  0.000000  0.000000  0     3     0     0     0     1   1   1  1    1    1    1    Generic         1       11\n",
              "175.45.176.3  0      149.171.126.10  0    gre   INT  0.000017  156   0       254  0    0  0    -     3.670588e+07  0.000000e+00  2   0    0    0    0           0           78   0     0    0    0.000000     0.000000    1421933339  1421933339    0.017000    0.000000    0.000000  0.000000  0.000000  0     2     0     0     0     10  2   2  4    2    2    2    DoS             1       10\n",
              "                                                                                                                                                                                                                                                                                                                                                                                               ..\n",
              "175.45.176.1  28588  149.171.126.15  111  tcp   FIN  0.925033  564   354     254  252  2  1    -     4.393357e+03  2.680986e+03  10  8    255  255  2082601520  3646606597  56   44    0    0    7351.577305  158.884016  1421928277  1421928278    99.742889   120.311859  0.122859  0.082839  0.040020  0     1     0     0     0     6   3   1  2    1    1    1    Reconnaissance  1        1\n",
              "              28635  149.171.126.13  143  tcp   FIN  1.703079  2224  253652  62   252  6  102  -     1.022149e+04  1.185772e+06  46  208  255  255  1019050352  652263447   48   1219  0    0    1869.093399  880.614309  1421930210  1421930212    37.846199   8.123048    0.080041  0.020904  0.059137  0     1     0     0     0     1   1   1  1    1    1    1    Exploits        1        1\n",
              "              28664  149.171.126.15  179  tcp   FIN  0.526831  1792  268     254  252  2  1    -     2.449362e+04  3.401470e+03  10  6    255  255  2300941481  405582329   179  45    0    0    2868.642307  135.063984  1421931240  1421931241    58.536778   81.081398   0.134176  0.091760  0.042416  0     1     0     0     0     3   3   1  1    1    1    1     Fuzzers        1        1\n",
              "              28743  149.171.126.15  179  tcp   FIN  0.518253  2566  268     254  252  2  1    -     3.565826e+04  3.457771e+03  10  6    255  255  3325914730  3106497262  257  45    0    0    2859.756339  139.851406  1421931271  1421931271    57.583667   85.540398   0.179214  0.089955  0.089259  0     1     0     0     0     3   3   1  1    1    1    1     Fuzzers        1        1\n",
              "175.45.176.3  9953   149.171.126.15  80   tcp   FIN  0.443028  938   268     254  252  2  1    http  1.525863e+04  4.044891e+03  10  6    255  255  1029649814  108178109   94   45    1    0    2158.837925  105.940039  1421931947  1421931947    44.471444   78.553797   0.101530  0.050252  0.051278  0     1     1     0     0     2   1   1  4    2    1    1    Exploits        1        1\n",
              "Length: 14281, dtype: int64"
            ]
          },
          "metadata": {},
          "execution_count": 29
        }
      ],
      "source": [
        "# data cleaning and plots\n",
        "import pandas as pd\n",
        "import numpy as np\n",
        "import seaborn as sns\n",
        "import matplotlib.pyplot as plt\n",
        "import nltk\n",
        "from sklearn.metrics import confusion_matrix\n",
        "from sklearn.datasets import load_iris\n",
        "from sklearn.model_selection import train_test_split\n",
        "from sklearn.neighbors import KNeighborsClassifier\n",
        "plt.style.use('ggplot')\n",
        "%matplotlib inline\n",
        "\n",
        "# sklearn: data preprocessing\n",
        "from sklearn.compose import ColumnTransformer\n",
        "from sklearn.preprocessing import StandardScaler, LabelEncoder, OneHotEncoder\n",
        "\n",
        "# sklearn: train model\n",
        "from sklearn.model_selection import train_test_split\n",
        "from sklearn.model_selection import cross_val_score, cross_validate, StratifiedKFold\n",
        "from sklearn.metrics import precision_recall_curve, precision_score, recall_score, f1_score, accuracy_score\n",
        "from sklearn.metrics import roc_curve, auc, roc_auc_score, confusion_matrix, classification_report\n",
        "\n",
        "# sklearn classifiers\n",
        "from sklearn.linear_model import LogisticRegression\n",
        "from sklearn.tree import DecisionTreeClassifier\n",
        "from sklearn.ensemble import RandomForestClassifier\n",
        "from sklearn.neural_network import MLPClassifier\n",
        "# Load data\n",
        "data = pd.read_csv('/content/drive/MyDrive/dataset/UNSW-NB15_1.csv')\n",
        "# Look at the first 5 rows\n",
        "data.head(n=5)\n",
        "# Print the columns type in order to review the data type for each column of the dataset.\n",
        "data.dtypes\n",
        "#Print the total registers for each column.\n",
        "data.info()\n",
        "data.value_counts()\n",
        "\n",
        "\n",
        "\n",
        "\n",
        "\n",
        "\n"
      ]
    },
    {
      "cell_type": "code",
      "source": [
        "import pandas as pd\n",
        "from sklearn.ensemble import RandomForestClassifier\n",
        "import joblib\n",
        "\n",
        "# Load the UNSW-NB15 training dataset\n",
        "train_data = pd.read_csv('/content/drive/MyDrive/dataset/UNSW_NB15_testing-set.csv')\n",
        "\n",
        "# Data preprocessing: Drop unnecessary columns and handle missing values (similar to the testing data preprocessing)\n",
        "train_data = train_data.drop(columns=['srcip', 'sport', 'dstip', 'dsport', 'proto', 'state', 'service', 'ct_src_ltm', 'ct_dst_ltm', 'attack_cat'])\n",
        "train_data = train_data.fillna(0)\n",
        "\n",
        "# Separate features (X_train) and target labels (y_train)\n",
        "X_train = train_data.drop(columns=['label'])\n",
        "y_train = train_data['label']\n",
        "\n",
        "# Create and train a Random Forest classifier\n",
        "clf = RandomForestClassifier(random_state=42)\n",
        "clf.fit(X_train, y_train)\n",
        "\n",
        "# Save the trained model to a file using joblib\n",
        "model_filename = 'random_forest_model.pkl'\n",
        "joblib.dump(clf, model_filename)\n",
        "\n",
        "print(f\"Pre-trained model saved as '{model_filename}'.\")"
      ],
      "metadata": {
        "colab": {
          "base_uri": "https://localhost:8080/"
        },
        "id": "1elsANBDPvoE",
        "outputId": "d7889c6e-29ab-4066-eae7-807e90b06b6a"
      },
      "execution_count": 38,
      "outputs": [
        {
          "output_type": "stream",
          "name": "stdout",
          "text": [
            "Pre-trained model saved as 'random_forest_model.pkl'.\n"
          ]
        }
      ]
    },
    {
      "cell_type": "code",
      "source": [
        "import pandas as pd\n",
        "from sklearn.metrics import confusion_matrix, classification_report\n",
        "import joblib\n",
        "\n",
        "# Load the UNSW-NB15 testing dataset\n",
        "test_data = pd.read_csv('/content/drive/MyDrive/dataset/UNSW_NB15_testing-set.csv')\n",
        "\n",
        "# Data preprocessing: Drop unnecessary columns and handle missing values (similar to the training data preprocessing)\n",
        "test_data = test_data.drop(columns=['srcip', 'sport', 'dstip', 'dsport', 'proto', 'state', 'service', 'ct_src_ltm', 'ct_dst_ltm', 'attack_cat'])\n",
        "test_data = test_data.fillna(0)\n",
        "\n",
        "# Separate features (X_test) and target labels (y_test)\n",
        "X_test = test_data.drop(columns=['label'])\n",
        "y_test = test_data['label']\n",
        "\n",
        "# Load the pre-trained model (e.g., Random Forest classifier)\n",
        "clf = joblib.load('random_forest_model.pkl')  # Replace 'your_pretrained_model.pkl' with the actual model file\n",
        "\n",
        "# Make predictions on the test set\n",
        "y_pred = clf.predict(X_test)\n",
        "\n",
        "# Create the confusion matrix\n",
        "confusion = confusion_matrix(y_test, y_pred)\n",
        "\n",
        "# Print the confusion matrix\n",
        "print(\"Confusion Matrix:\")\n",
        "print(confusion)\n",
        "\n",
        "# Print a classification report for more detailed metrics\n",
        "print(\"\\nClassification Report:\")\n",
        "print(classification_report(y_test, y_pred))"
      ],
      "metadata": {
        "colab": {
          "base_uri": "https://localhost:8080/"
        },
        "id": "jHp_XPRMQiGg",
        "outputId": "f98c2544-9aad-4875-bc54-947e0ea8294f"
      },
      "execution_count": 41,
      "outputs": [
        {
          "output_type": "stream",
          "name": "stdout",
          "text": [
            "Confusion Matrix:\n",
            "[[ 56000      0]\n",
            " [     0 119341]]\n",
            "\n",
            "Classification Report:\n",
            "              precision    recall  f1-score   support\n",
            "\n",
            "           0       1.00      1.00      1.00     56000\n",
            "           1       1.00      1.00      1.00    119341\n",
            "\n",
            "    accuracy                           1.00    175341\n",
            "   macro avg       1.00      1.00      1.00    175341\n",
            "weighted avg       1.00      1.00      1.00    175341\n",
            "\n"
          ]
        }
      ]
    }
  ]
}